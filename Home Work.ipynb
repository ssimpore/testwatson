{
    "cells": [
        {
            "metadata": {
                "collapsed": true
            },
            "cell_type": "markdown",
            "source": "# My Jupyter Notebook on IBM Watson Studio"
        },
        {
            "metadata": {},
            "cell_type": "markdown",
            "source": "**Dr. Sidiki SIMPORE**\n\nEngineer and researcher in energy and data"
        },
        {
            "metadata": {},
            "cell_type": "markdown",
            "source": " *I hold my PhD in energy and I want to work on the data analysis in energy sector. So this course is an opportunity for my to be capable to apply for jobs I need or to create my own company*."
        },
        {
            "metadata": {},
            "cell_type": "markdown",
            "source": "### Display the sum of two variables"
        },
        {
            "metadata": {},
            "cell_type": "code",
            "source": "x=2\ny=5\nz=x+y\nprint(z)",
            "execution_count": 5,
            "outputs": [
                {
                    "output_type": "stream",
                    "text": "7\n",
                    "name": "stdout"
                }
            ]
        },
        {
            "metadata": {},
            "cell_type": "markdown",
            "source": "[www.coursera.org](https://www.coursera.org)\n\n[My web page](https://www.sidiki-simpore.org)\n\n\n1. Machine Learning\n1. Data science\n1. Data processing\n1. Open Scale\n\n\n<video controls src=\"../images/animation.m4v\" />"
        }
    ],
    "metadata": {
        "kernelspec": {
            "name": "python3",
            "display_name": "Python 3.6",
            "language": "python"
        },
        "language_info": {
            "name": "python",
            "version": "3.6.9",
            "mimetype": "text/x-python",
            "codemirror_mode": {
                "name": "ipython",
                "version": 3
            },
            "pygments_lexer": "ipython3",
            "nbconvert_exporter": "python",
            "file_extension": ".py"
        }
    },
    "nbformat": 4,
    "nbformat_minor": 1
}