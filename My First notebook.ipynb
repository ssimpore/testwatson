{
    "cells": [
        {
            "metadata": {},
            "cell_type": "markdown",
            "source": "# This is very usefull"
        },
        {
            "metadata": {},
            "cell_type": "code",
            "source": "x=2\ny=3\nz=x+y\nprint(z)\n\nprint('Je suis sidiki')\nname=\"sidiki\"\nlastename=\"simpore\"\n\nprint(\"Je m'applle {} {} \".format(name,lastename))\n",
            "execution_count": 9,
            "outputs": [
                {
                    "output_type": "stream",
                    "text": "5\nJe suis sidiki\nJe m'applle sidiki simpore \n",
                    "name": "stdout"
                }
            ]
        }
    ],
    "metadata": {
        "kernelspec": {
            "name": "python3",
            "display_name": "Python 3.6",
            "language": "python"
        },
        "language_info": {
            "name": "python",
            "version": "3.6.9",
            "mimetype": "text/x-python",
            "codemirror_mode": {
                "name": "ipython",
                "version": 3
            },
            "pygments_lexer": "ipython3",
            "nbconvert_exporter": "python",
            "file_extension": ".py"
        }
    },
    "nbformat": 4,
    "nbformat_minor": 1
}